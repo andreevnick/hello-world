{
 "cells": [
  {
   "cell_type": "code",
   "execution_count": 1,
   "metadata": {},
   "outputs": [],
   "source": [
    "import numpy as np;\n",
    "np.seterr(all='raise');\n",
    "\n",
    "import scipy.stats as sc;\n",
    "\n",
    "from datetime import datetime, timedelta;\n",
    "from dateutil.relativedelta import relativedelta;\n",
    "\n",
    "\n",
    "#%matplotlib inline\n",
    "import matplotlib.pyplot as plt \n",
    "plt.rc(\"font\", size=16)\n",
    "\n",
    "import seaborn as sns;\n",
    "\n",
    "from datetime import datetime;\n",
    "__timestamp = None;\n",
    "\n",
    "def tic():\n",
    "    global __timestamp;\n",
    "    __timestamp = datetime.now();\n",
    "    \n",
    "def toc():\n",
    "    global __timestamp;\n",
    "    print('Time elapsed: %.2f seconds' % (datetime.now() - __timestamp).total_seconds());"
   ]
  },
  {
   "cell_type": "code",
   "execution_count": null,
   "metadata": {},
   "outputs": [],
   "source": [
    "X0 = "
   ]
  }
 ],
 "metadata": {
  "kernelspec": {
   "display_name": "Python 3",
   "language": "python",
   "name": "python3"
  },
  "language_info": {
   "codemirror_mode": {
    "name": "ipython",
    "version": 3
   },
   "file_extension": ".py",
   "mimetype": "text/x-python",
   "name": "python",
   "nbconvert_exporter": "python",
   "pygments_lexer": "ipython3",
   "version": "3.7.0"
  }
 },
 "nbformat": 4,
 "nbformat_minor": 2
}
